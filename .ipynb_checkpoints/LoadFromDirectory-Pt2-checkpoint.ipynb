{
 "cells": [
  {
   "cell_type": "code",
   "execution_count": 1,
   "id": "03506ae7",
   "metadata": {},
   "outputs": [],
   "source": [
    "import os\n",
    "import pathlib\n",
    "import numpy as np\n",
    "import pandas as pd\n",
    "import PIL\n",
    "import PIL.Image\n",
    "import tensorflow as tf\n",
    "import tensorflow_datasets as tfds"
   ]
  },
  {
   "cell_type": "code",
   "execution_count": 2,
   "id": "aa722e1d",
   "metadata": {},
   "outputs": [],
   "source": [
    "train_fpath = os.path.join(os.getcwd(),\"train-updated\")\n",
    "test_fpath = os.path.join(os.getcwd(),\"test\")\n",
    "\n",
    "# Get the file path to the train and test images\n",
    "train_dir = pathlib.Path(train_fpath)\n",
    "test_dir = pathlib.Path(test_fpath)"
   ]
  },
  {
   "cell_type": "code",
   "execution_count": 3,
   "id": "7c4265be",
   "metadata": {},
   "outputs": [],
   "source": [
    "# Define parameters\n",
    "\n",
    "batch_size = 32\n",
    "img_height = 180\n",
    "img_width = 180\n",
    "seed = 42\n",
    "validation_split = 0.15\n",
    "rescaling = 1./255"
   ]
  },
  {
   "cell_type": "code",
   "execution_count": 4,
   "id": "e775ed68",
   "metadata": {},
   "outputs": [
    {
     "name": "stdout",
     "output_type": "stream",
     "text": [
      "Found 240 files belonging to 4 classes.\n",
      "Using 204 files for training.\n",
      "Found 240 files belonging to 4 classes.\n",
      "Using 36 files for validation.\n",
      "Found 60 files belonging to 4 classes.\n"
     ]
    }
   ],
   "source": [
    "train_ds = tf.keras.utils.image_dataset_from_directory(\n",
    "    train_dir,\n",
    "    validation_split=validation_split,\n",
    "    subset=\"training\",\n",
    "    seed=seed,\n",
    "    image_size=(img_height, img_width),\n",
    "    batch_size=batch_size)\n",
    "\n",
    "val_ds = tf.keras.utils.image_dataset_from_directory(\n",
    "    train_dir,\n",
    "    validation_split=validation_split,\n",
    "    subset=\"validation\",\n",
    "    seed=seed,\n",
    "    image_size=(img_height, img_width),\n",
    "    batch_size=batch_size)\n",
    "\n",
    "\n",
    "test_ds = tf.keras.utils.image_dataset_from_directory(\n",
    "    test_dir,\n",
    "    validation_split=None,\n",
    "    subset=None,\n",
    "    seed=seed,\n",
    "    image_size=(img_height, img_width),\n",
    "    batch_size=batch_size)"
   ]
  },
  {
   "cell_type": "code",
   "execution_count": 5,
   "id": "5d8ec6b2",
   "metadata": {},
   "outputs": [],
   "source": [
    "AUTOTUNE = tf.data.AUTOTUNE\n",
    "\n",
    "train_ds = train_ds.cache().shuffle(1000).prefetch(buffer_size=AUTOTUNE)\n",
    "val_ds = val_ds.cache().prefetch(buffer_size=AUTOTUNE)"
   ]
  },
  {
   "cell_type": "code",
   "execution_count": 6,
   "id": "351afd3b",
   "metadata": {},
   "outputs": [],
   "source": [
    "normalization_layer = tf.keras.layers.Rescaling(rescaling)\n"
   ]
  },
  {
   "cell_type": "code",
   "execution_count": 7,
   "id": "1dd15be7",
   "metadata": {},
   "outputs": [
    {
     "name": "stdout",
     "output_type": "stream",
     "text": [
      "WARNING:tensorflow:From /Users/chanweiquan/miniforge3/lib/python3.10/site-packages/tensorflow/python/autograph/pyct/static_analysis/liveness.py:83: Analyzer.lamba_check (from tensorflow.python.autograph.pyct.static_analysis.liveness) is deprecated and will be removed after 2023-09-23.\n",
      "Instructions for updating:\n",
      "Lambda fuctions will be no more assumed to be used in the statement where they are used, or at least in the same block. https://github.com/tensorflow/tensorflow/issues/56089\n"
     ]
    },
    {
     "name": "stderr",
     "output_type": "stream",
     "text": [
      "2023-05-22 10:30:37.377044: W tensorflow/tsl/platform/profile_utils/cpu_utils.cc:128] Failed to get CPU frequency: 0 Hz\n",
      "2023-05-22 10:30:37.393658: W tensorflow/core/lib/png/png_io.cc:88] PNG warning: iCCP: known incorrect sRGB profile\n",
      "2023-05-22 10:30:37.407713: W tensorflow/core/lib/png/png_io.cc:88] PNG warning: iCCP: known incorrect sRGB profile\n"
     ]
    },
    {
     "name": "stdout",
     "output_type": "stream",
     "text": [
      "0.00058155746 1.0\n"
     ]
    }
   ],
   "source": [
    "normalized_ds = train_ds.map(lambda x, y: (normalization_layer(x), y))\n",
    "image_batch, labels_batch = next(iter(normalized_ds))\n",
    "first_image = image_batch[0]\n",
    "# Notice the pixel values are now in `[0,1]`.\n",
    "print(np.min(first_image), np.max(first_image))"
   ]
  },
  {
   "cell_type": "code",
   "execution_count": 8,
   "id": "2e78214c",
   "metadata": {},
   "outputs": [],
   "source": [
    "AUTOTUNE = tf.data.AUTOTUNE\n",
    "\n",
    "train_ds = train_ds.cache().prefetch(buffer_size=AUTOTUNE)\n",
    "val_ds = val_ds.cache().prefetch(buffer_size=AUTOTUNE)\n"
   ]
  },
  {
   "cell_type": "code",
   "execution_count": 9,
   "id": "72d747bf",
   "metadata": {},
   "outputs": [
    {
     "name": "stdout",
     "output_type": "stream",
     "text": [
      "Epoch 1/20\n",
      "7/7 [==============================] - 2s 203ms/step - loss: 1.4566 - accuracy: 0.2941 - val_loss: 1.3810 - val_accuracy: 0.3056\n",
      "Epoch 2/20\n"
     ]
    },
    {
     "name": "stderr",
     "output_type": "stream",
     "text": [
      "2023-05-22 10:30:40.177653: W tensorflow/core/lib/png/png_io.cc:88] PNG warning: iCCP: known incorrect sRGB profile\n",
      "2023-05-22 10:30:40.212710: W tensorflow/core/lib/png/png_io.cc:88] PNG warning: iCCP: known incorrect sRGB profile\n"
     ]
    },
    {
     "name": "stdout",
     "output_type": "stream",
     "text": [
      "7/7 [==============================] - 1s 182ms/step - loss: 1.2220 - accuracy: 0.4608 - val_loss: 1.1714 - val_accuracy: 0.4722\n",
      "Epoch 3/20\n",
      "7/7 [==============================] - 1s 185ms/step - loss: 1.0279 - accuracy: 0.5539 - val_loss: 0.9079 - val_accuracy: 0.7222\n",
      "Epoch 4/20\n",
      "7/7 [==============================] - 1s 191ms/step - loss: 0.7236 - accuracy: 0.7696 - val_loss: 0.6672 - val_accuracy: 0.7222\n",
      "Epoch 5/20\n",
      "7/7 [==============================] - 1s 186ms/step - loss: 0.3920 - accuracy: 0.8775 - val_loss: 0.6073 - val_accuracy: 0.7778\n",
      "Epoch 6/20\n",
      "7/7 [==============================] - 1s 189ms/step - loss: 0.2443 - accuracy: 0.9412 - val_loss: 0.5888 - val_accuracy: 0.7500\n",
      "Epoch 7/20\n",
      "7/7 [==============================] - 1s 197ms/step - loss: 0.1601 - accuracy: 0.9461 - val_loss: 1.0110 - val_accuracy: 0.7222\n",
      "Epoch 8/20\n",
      "7/7 [==============================] - 1s 190ms/step - loss: 0.5810 - accuracy: 0.7941 - val_loss: 0.6532 - val_accuracy: 0.7500\n",
      "Epoch 9/20\n",
      "7/7 [==============================] - 1s 184ms/step - loss: 0.4118 - accuracy: 0.8627 - val_loss: 0.5832 - val_accuracy: 0.7778\n",
      "Epoch 10/20\n",
      "7/7 [==============================] - 1s 189ms/step - loss: 0.2136 - accuracy: 0.9216 - val_loss: 0.5786 - val_accuracy: 0.8333\n",
      "Epoch 11/20\n",
      "7/7 [==============================] - 1s 189ms/step - loss: 0.1280 - accuracy: 0.9559 - val_loss: 0.4459 - val_accuracy: 0.8333\n",
      "Epoch 12/20\n",
      "7/7 [==============================] - 1s 186ms/step - loss: 0.0689 - accuracy: 0.9804 - val_loss: 0.6151 - val_accuracy: 0.8333\n",
      "Epoch 13/20\n",
      "7/7 [==============================] - 1s 190ms/step - loss: 0.0318 - accuracy: 0.9951 - val_loss: 0.5544 - val_accuracy: 0.8333\n",
      "Epoch 14/20\n",
      "7/7 [==============================] - 1s 187ms/step - loss: 0.0150 - accuracy: 1.0000 - val_loss: 0.6630 - val_accuracy: 0.8611\n",
      "Epoch 15/20\n",
      "7/7 [==============================] - 1s 195ms/step - loss: 0.0093 - accuracy: 1.0000 - val_loss: 0.8616 - val_accuracy: 0.8333\n",
      "Epoch 16/20\n",
      "7/7 [==============================] - 1s 205ms/step - loss: 0.0062 - accuracy: 1.0000 - val_loss: 0.9184 - val_accuracy: 0.8611\n",
      "Epoch 17/20\n",
      "7/7 [==============================] - 1s 203ms/step - loss: 0.0041 - accuracy: 1.0000 - val_loss: 0.9732 - val_accuracy: 0.8333\n",
      "Epoch 18/20\n",
      "7/7 [==============================] - 1s 188ms/step - loss: 0.0030 - accuracy: 1.0000 - val_loss: 1.0514 - val_accuracy: 0.8333\n",
      "Epoch 19/20\n",
      "7/7 [==============================] - 1s 184ms/step - loss: 0.0022 - accuracy: 1.0000 - val_loss: 0.9258 - val_accuracy: 0.8611\n",
      "Epoch 20/20\n",
      "7/7 [==============================] - 1s 183ms/step - loss: 0.0017 - accuracy: 1.0000 - val_loss: 0.9748 - val_accuracy: 0.8611\n"
     ]
    },
    {
     "data": {
      "text/plain": [
       "<keras.callbacks.History at 0x15bec8160>"
      ]
     },
     "execution_count": 9,
     "metadata": {},
     "output_type": "execute_result"
    }
   ],
   "source": [
    "from tensorflow.keras import layers\n",
    "\n",
    "num_classes = 5\n",
    "\n",
    "\n",
    "\n",
    "model = tf.keras.Sequential([\n",
    "    tf.keras.layers.Rescaling(1./255),\n",
    "    tf.keras.layers.Conv2D(32, 3, activation='relu'),\n",
    "    tf.keras.layers.MaxPooling2D(),\n",
    "    tf.keras.layers.Conv2D(32, 3, activation='relu'),\n",
    "    tf.keras.layers.MaxPooling2D(),\n",
    "    tf.keras.layers.Conv2D(32, 3, activation='relu'),\n",
    "    tf.keras.layers.MaxPooling2D(),\n",
    "    tf.keras.layers.Flatten(),\n",
    "    tf.keras.layers.Dense(128, activation='relu'),\n",
    "    tf.keras.layers.Dense(num_classes)\n",
    "    ])\n",
    "\n",
    "model.compile(\n",
    "  optimizer='adam',\n",
    "  loss=tf.keras.losses.SparseCategoricalCrossentropy(from_logits=True),\n",
    "  metrics=['accuracy'])\n",
    "model.fit(\n",
    "  train_ds,\n",
    "  validation_data=val_ds,\n",
    "  epochs=20\n",
    ")\n"
   ]
  },
  {
   "cell_type": "code",
   "execution_count": null,
   "id": "cd177ebe",
   "metadata": {},
   "outputs": [],
   "source": [
    "model.evaluate(test_ds)"
   ]
  },
  {
   "cell_type": "code",
   "execution_count": null,
   "id": "77f3fed2",
   "metadata": {},
   "outputs": [],
   "source": []
  }
 ],
 "metadata": {
  "kernelspec": {
   "display_name": "Python 3 (ipykernel)",
   "language": "python",
   "name": "python3"
  },
  "language_info": {
   "codemirror_mode": {
    "name": "ipython",
    "version": 3
   },
   "file_extension": ".py",
   "mimetype": "text/x-python",
   "name": "python",
   "nbconvert_exporter": "python",
   "pygments_lexer": "ipython3",
   "version": "3.10.10"
  }
 },
 "nbformat": 4,
 "nbformat_minor": 5
}
