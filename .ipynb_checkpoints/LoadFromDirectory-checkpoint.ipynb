{
 "cells": [
  {
   "cell_type": "code",
   "execution_count": 1,
   "id": "03506ae7",
   "metadata": {},
   "outputs": [],
   "source": [
    "import os\n",
    "import pathlib\n",
    "import numpy as np\n",
    "import pandas as pd\n",
    "import PIL\n",
    "import PIL.Image\n",
    "import tensorflow as tf\n",
    "import tensorflow_datasets as tfds"
   ]
  },
  {
   "cell_type": "code",
   "execution_count": 2,
   "id": "aa722e1d",
   "metadata": {},
   "outputs": [],
   "source": [
    "train_fpath = os.path.join(os.getcwd(),\"train-updated\")\n",
    "test_fpath = os.path.join(os.getcwd(),\"test\")\n",
    "\n",
    "# Get the file path to the train and test images\n",
    "train_dir = pathlib.Path(train_fpath)\n",
    "test_dir = pathlib.Path(test_fpath)"
   ]
  },
  {
   "cell_type": "code",
   "execution_count": 3,
   "id": "7c4265be",
   "metadata": {},
   "outputs": [],
   "source": [
    "batch_size = 32\n",
    "img_height = 180\n",
    "img_width = 180\n",
    "seed = 42\n",
    "validation_split = 0.15\n",
    "rescaling = 1./255"
   ]
  },
  {
   "cell_type": "code",
   "execution_count": 8,
   "id": "e775ed68",
   "metadata": {},
   "outputs": [
    {
     "name": "stdout",
     "output_type": "stream",
     "text": [
      "Found 240 files belonging to 4 classes.\n",
      "Using 204 files for training.\n",
      "Found 240 files belonging to 4 classes.\n",
      "Using 36 files for validation.\n",
      "Found 60 files belonging to 4 classes.\n"
     ]
    }
   ],
   "source": [
    "train_ds = tf.keras.utils.image_dataset_from_directory(\n",
    "    train_dir,\n",
    "    validation_split=validation_split,\n",
    "    subset=\"training\",\n",
    "    seed=seed,\n",
    "    image_size=(img_height, img_width),\n",
    "    batch_size=batch_size)\n",
    "\n",
    "val_ds = tf.keras.utils.image_dataset_from_directory(\n",
    "    train_dir,\n",
    "    validation_split=validation_split,\n",
    "    subset=\"validation\",\n",
    "    seed=seed,\n",
    "    image_size=(img_height, img_width),\n",
    "    batch_size=batch_size)\n",
    "\n",
    "\n",
    "test_ds = tf.keras.utils.image_dataset_from_directory(\n",
    "    test_dir,  # Specify the directory containing your test data\n",
    "    validation_split=None,  # Set validation_split to None\n",
    "    subset=None,  # Set subset to None\n",
    "    seed=seed,  # Specify the seed for reproducibility if needed\n",
    "    image_size=(img_height, img_width),\n",
    "    batch_size=batch_size)\n"
   ]
  },
  {
   "cell_type": "code",
   "execution_count": 9,
   "id": "4796b8b3",
   "metadata": {},
   "outputs": [
    {
     "name": "stdout",
     "output_type": "stream",
     "text": [
      "['apple', 'banana', 'mixed', 'orange']\n"
     ]
    }
   ],
   "source": [
    "class_names = val_ds.class_names\n",
    "print(class_names)\n"
   ]
  },
  {
   "cell_type": "code",
   "execution_count": 10,
   "id": "5d8ec6b2",
   "metadata": {},
   "outputs": [],
   "source": [
    "AUTOTUNE = tf.data.AUTOTUNE\n",
    "\n",
    "train_ds = train_ds.cache().shuffle(1000).prefetch(buffer_size=AUTOTUNE)\n",
    "val_ds = val_ds.cache().prefetch(buffer_size=AUTOTUNE)"
   ]
  },
  {
   "cell_type": "code",
   "execution_count": 11,
   "id": "351afd3b",
   "metadata": {},
   "outputs": [],
   "source": [
    "normalization_layer = tf.keras.layers.Rescaling(rescaling)\n"
   ]
  },
  {
   "cell_type": "code",
   "execution_count": 12,
   "id": "1dd15be7",
   "metadata": {},
   "outputs": [
    {
     "name": "stdout",
     "output_type": "stream",
     "text": [
      "WARNING:tensorflow:From /Users/chanweiquan/miniforge3/lib/python3.10/site-packages/tensorflow/python/autograph/pyct/static_analysis/liveness.py:83: Analyzer.lamba_check (from tensorflow.python.autograph.pyct.static_analysis.liveness) is deprecated and will be removed after 2023-09-23.\n",
      "Instructions for updating:\n",
      "Lambda fuctions will be no more assumed to be used in the statement where they are used, or at least in the same block. https://github.com/tensorflow/tensorflow/issues/56089\n"
     ]
    },
    {
     "name": "stderr",
     "output_type": "stream",
     "text": [
      "2023-05-22 10:21:33.101185: W tensorflow/tsl/platform/profile_utils/cpu_utils.cc:128] Failed to get CPU frequency: 0 Hz\n",
      "2023-05-22 10:21:33.120194: W tensorflow/core/lib/png/png_io.cc:88] PNG warning: iCCP: known incorrect sRGB profile\n",
      "2023-05-22 10:21:33.136218: W tensorflow/core/lib/png/png_io.cc:88] PNG warning: iCCP: known incorrect sRGB profile\n"
     ]
    },
    {
     "name": "stdout",
     "output_type": "stream",
     "text": [
      "0.0 0.9913766\n"
     ]
    }
   ],
   "source": [
    "normalized_ds = train_ds.map(lambda x, y: (normalization_layer(x), y))\n",
    "image_batch, labels_batch = next(iter(normalized_ds))\n",
    "first_image = image_batch[0]\n",
    "# Notice the pixel values are now in `[0,1]`.\n",
    "print(np.min(first_image), np.max(first_image))"
   ]
  },
  {
   "cell_type": "code",
   "execution_count": 13,
   "id": "2e78214c",
   "metadata": {},
   "outputs": [],
   "source": [
    "AUTOTUNE = tf.data.AUTOTUNE\n",
    "\n",
    "train_ds = train_ds.cache().prefetch(buffer_size=AUTOTUNE)\n",
    "val_ds = val_ds.cache().prefetch(buffer_size=AUTOTUNE)\n"
   ]
  },
  {
   "cell_type": "code",
   "execution_count": 14,
   "id": "72d747bf",
   "metadata": {},
   "outputs": [
    {
     "name": "stdout",
     "output_type": "stream",
     "text": [
      "Epoch 1/20\n",
      "7/7 [==============================] - 2s 199ms/step - loss: 1.5684 - accuracy: 0.2745 - val_loss: 1.3524 - val_accuracy: 0.4722\n",
      "Epoch 2/20\n"
     ]
    },
    {
     "name": "stderr",
     "output_type": "stream",
     "text": [
      "2023-05-22 10:21:35.256115: W tensorflow/core/lib/png/png_io.cc:88] PNG warning: iCCP: known incorrect sRGB profile\n",
      "2023-05-22 10:21:35.291748: W tensorflow/core/lib/png/png_io.cc:88] PNG warning: iCCP: known incorrect sRGB profile\n"
     ]
    },
    {
     "name": "stdout",
     "output_type": "stream",
     "text": [
      "7/7 [==============================] - 1s 180ms/step - loss: 1.2015 - accuracy: 0.4853 - val_loss: 1.0287 - val_accuracy: 0.5833\n",
      "Epoch 3/20\n",
      "7/7 [==============================] - 1s 183ms/step - loss: 0.7741 - accuracy: 0.7500 - val_loss: 0.7982 - val_accuracy: 0.7222\n",
      "Epoch 4/20\n",
      "7/7 [==============================] - 1s 182ms/step - loss: 0.5153 - accuracy: 0.8088 - val_loss: 0.7651 - val_accuracy: 0.7222\n",
      "Epoch 5/20\n",
      "7/7 [==============================] - 1s 181ms/step - loss: 0.4257 - accuracy: 0.8284 - val_loss: 0.5371 - val_accuracy: 0.8056\n",
      "Epoch 6/20\n",
      "7/7 [==============================] - 1s 180ms/step - loss: 0.2374 - accuracy: 0.9265 - val_loss: 0.7240 - val_accuracy: 0.8333\n",
      "Epoch 7/20\n",
      "7/7 [==============================] - 1s 181ms/step - loss: 0.2057 - accuracy: 0.9167 - val_loss: 0.5546 - val_accuracy: 0.8333\n",
      "Epoch 8/20\n",
      "7/7 [==============================] - 1s 181ms/step - loss: 0.1054 - accuracy: 0.9706 - val_loss: 0.7020 - val_accuracy: 0.8333\n",
      "Epoch 9/20\n",
      "7/7 [==============================] - 1s 182ms/step - loss: 0.0648 - accuracy: 0.9902 - val_loss: 0.5684 - val_accuracy: 0.8333\n",
      "Epoch 10/20\n",
      "7/7 [==============================] - 1s 183ms/step - loss: 0.0335 - accuracy: 0.9951 - val_loss: 0.8375 - val_accuracy: 0.8333\n",
      "Epoch 11/20\n",
      "7/7 [==============================] - 1s 182ms/step - loss: 0.0202 - accuracy: 1.0000 - val_loss: 0.6577 - val_accuracy: 0.8611\n",
      "Epoch 12/20\n",
      "7/7 [==============================] - 1s 183ms/step - loss: 0.0119 - accuracy: 1.0000 - val_loss: 0.7412 - val_accuracy: 0.8611\n",
      "Epoch 13/20\n",
      "7/7 [==============================] - 1s 185ms/step - loss: 0.0062 - accuracy: 1.0000 - val_loss: 1.0604 - val_accuracy: 0.8333\n",
      "Epoch 14/20\n",
      "7/7 [==============================] - 1s 185ms/step - loss: 0.0045 - accuracy: 1.0000 - val_loss: 1.0116 - val_accuracy: 0.8611\n",
      "Epoch 15/20\n",
      "7/7 [==============================] - 1s 183ms/step - loss: 0.0027 - accuracy: 1.0000 - val_loss: 1.0164 - val_accuracy: 0.8611\n",
      "Epoch 16/20\n",
      "7/7 [==============================] - 1s 184ms/step - loss: 0.0020 - accuracy: 1.0000 - val_loss: 1.0637 - val_accuracy: 0.8611\n",
      "Epoch 17/20\n",
      "7/7 [==============================] - 1s 183ms/step - loss: 0.0016 - accuracy: 1.0000 - val_loss: 1.1209 - val_accuracy: 0.8611\n",
      "Epoch 18/20\n",
      "7/7 [==============================] - 1s 183ms/step - loss: 0.0013 - accuracy: 1.0000 - val_loss: 1.2044 - val_accuracy: 0.8611\n",
      "Epoch 19/20\n",
      "7/7 [==============================] - 1s 183ms/step - loss: 0.0010 - accuracy: 1.0000 - val_loss: 1.2654 - val_accuracy: 0.8611\n",
      "Epoch 20/20\n",
      "7/7 [==============================] - 1s 183ms/step - loss: 8.7363e-04 - accuracy: 1.0000 - val_loss: 1.2828 - val_accuracy: 0.8611\n"
     ]
    },
    {
     "data": {
      "text/plain": [
       "<keras.callbacks.History at 0x1436372b0>"
      ]
     },
     "execution_count": 14,
     "metadata": {},
     "output_type": "execute_result"
    }
   ],
   "source": [
    "num_classes = 5\n",
    "\n",
    "model = tf.keras.Sequential([\n",
    "  tf.keras.layers.Rescaling(1./255),\n",
    "  tf.keras.layers.Conv2D(32, 3, activation='relu'),\n",
    "  tf.keras.layers.MaxPooling2D(),\n",
    "  tf.keras.layers.Conv2D(32, 3, activation='relu'),\n",
    "  tf.keras.layers.MaxPooling2D(),\n",
    "  tf.keras.layers.Conv2D(32, 3, activation='relu'),\n",
    "  tf.keras.layers.MaxPooling2D(),\n",
    "  tf.keras.layers.Flatten(),\n",
    "  tf.keras.layers.Dense(128, activation='relu'),\n",
    "  tf.keras.layers.Dense(num_classes)\n",
    "])\n",
    "\n",
    "model.compile(\n",
    "  optimizer='adam',\n",
    "  loss=tf.keras.losses.SparseCategoricalCrossentropy(from_logits=True),\n",
    "  metrics=['accuracy'])\n",
    "model.fit(\n",
    "  train_ds,\n",
    "  validation_data=val_ds,\n",
    "  epochs=20\n",
    ")\n"
   ]
  },
  {
   "cell_type": "code",
   "execution_count": 16,
   "id": "cd177ebe",
   "metadata": {},
   "outputs": [
    {
     "name": "stdout",
     "output_type": "stream",
     "text": [
      "2/2 [==============================] - 0s 50ms/step - loss: 1.2940 - accuracy: 0.8500\n"
     ]
    },
    {
     "name": "stderr",
     "output_type": "stream",
     "text": [
      "2023-05-22 10:22:19.802520: W tensorflow/core/lib/png/png_io.cc:88] PNG warning: iCCP: known incorrect sRGB profile\n"
     ]
    },
    {
     "data": {
      "text/plain": [
       "[1.2940188646316528, 0.8500000238418579]"
      ]
     },
     "execution_count": 16,
     "metadata": {},
     "output_type": "execute_result"
    }
   ],
   "source": [
    "model.evaluate(test_ds)"
   ]
  },
  {
   "cell_type": "code",
   "execution_count": null,
   "id": "77f3fed2",
   "metadata": {},
   "outputs": [],
   "source": []
  }
 ],
 "metadata": {
  "kernelspec": {
   "display_name": "Python 3 (ipykernel)",
   "language": "python",
   "name": "python3"
  },
  "language_info": {
   "codemirror_mode": {
    "name": "ipython",
    "version": 3
   },
   "file_extension": ".py",
   "mimetype": "text/x-python",
   "name": "python",
   "nbconvert_exporter": "python",
   "pygments_lexer": "ipython3",
   "version": "3.10.10"
  }
 },
 "nbformat": 4,
 "nbformat_minor": 5
}
